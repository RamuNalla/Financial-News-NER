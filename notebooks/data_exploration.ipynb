{
 "cells": [
  {
   "cell_type": "code",
   "execution_count": null,
   "id": "ee21ce46",
   "metadata": {},
   "outputs": [
    {
     "name": "stderr",
     "output_type": "stream",
     "text": [
      "c:\\Users\\mkongathi\\AppData\\Local\\Programs\\Python\\Python313\\Lib\\site-packages\\huggingface_hub\\file_download.py:143: UserWarning: `huggingface_hub` cache-system uses symlinks by default to efficiently store duplicated files but your machine does not support them in C:\\Users\\mkongathi\\.cache\\huggingface\\hub\\datasets--nlpaueb--finer-139. Caching files will still work but in a degraded version that might require more space on your disk. This warning can be disabled by setting the `HF_HUB_DISABLE_SYMLINKS_WARNING` environment variable. For more details, see https://huggingface.co/docs/huggingface_hub/how-to-cache#limitations.\n",
      "To support symlinks on Windows, you either need to activate Developer Mode or to run Python as an administrator. In order to activate developer mode, see this article: https://docs.microsoft.com/en-us/windows/apps/get-started/enable-your-device-for-development\n",
      "  warnings.warn(message)\n",
      "Xet Storage is enabled for this repo, but the 'hf_xet' package is not installed. Falling back to regular HTTP download. For better performance, install the package with: `pip install huggingface_hub[hf_xet]` or `pip install hf_xet`\n",
      "Xet Storage is enabled for this repo, but the 'hf_xet' package is not installed. Falling back to regular HTTP download. For better performance, install the package with: `pip install huggingface_hub[hf_xet]` or `pip install hf_xet`\n",
      "Xet Storage is enabled for this repo, but the 'hf_xet' package is not installed. Falling back to regular HTTP download. For better performance, install the package with: `pip install huggingface_hub[hf_xet]` or `pip install hf_xet`\n",
      "Xet Storage is enabled for this repo, but the 'hf_xet' package is not installed. Falling back to regular HTTP download. For better performance, install the package with: `pip install huggingface_hub[hf_xet]` or `pip install hf_xet`\n",
      "Generating train split: 100%|██████████| 900384/900384 [00:03<00:00, 250735.43 examples/s]\n",
      "Generating validation split: 100%|██████████| 112494/112494 [00:00<00:00, 204086.56 examples/s]\n",
      "Generating test split: 100%|██████████| 108378/108378 [00:00<00:00, 259785.32 examples/s]\n"
     ]
    }
   ],
   "source": [
    "import pandas as pd\n",
    "from datasets import load_dataset\n",
    "\n",
    "dataset = load_dataset(\"nlpaueb/finer-139\")\n",
    "\n",
    "# The dataset is a DatasetDict containing train, validation, and test splits\n",
    "train_data = dataset['train']\n",
    "validation_data = dataset['validation']\n",
    "test_data = dataset['test']\n"
   ]
  },
  {
   "cell_type": "code",
   "execution_count": 4,
   "id": "2a0ea99e",
   "metadata": {},
   "outputs": [
    {
     "name": "stdout",
     "output_type": "stream",
     "text": [
      "Tokens: ['ITEM', '1', 'Financial', 'Statements', 'Lennar', 'Corporation', 'and', 'Subsidiaries', 'Condensed', 'Consolidated', 'Balance', 'Sheets', '(', 'Dollars', 'in', 'thousands', ',', 'except', 'shares', 'and', 'per', 'share', 'amounts', ')', '(', 'unaudited', ')', '(', '1', ')', 'Under', 'certain', 'provisions', 'of', 'Accounting', 'Standards', 'Codification', '(', '“', 'ASC', '”', ')', 'Topic', '810', ',', 'Consolidations', ',', '(', '“', 'ASC', '810', '”', ')', 'the', 'Company', 'is', 'required', 'to', 'separately', 'disclose', 'on', 'its', 'condensed', 'consolidated', 'balance', 'sheets', 'the', 'assets', 'owned', 'by', 'consolidated', 'variable', 'interest', 'entities', '(', '“', 'VIEs', '”', ')', 'and', 'liabilities', 'of', 'consolidated', 'VIEs', 'as', 'to', 'which', 'neither', 'Lennar', 'Corporation', ',', 'or', 'any', 'of', 'its', 'subsidiaries', ',', 'has', 'any', 'obligations', '.', 'As', 'of', 'May', '31', ',', '2016', ',', 'total', 'assets', 'include', '$', '645.1', 'million', 'related', 'to', 'consolidated', 'VIEs', 'of', 'which', '$', '8.2', 'million', 'is', 'included', 'in', 'Lennar', 'Homebuilding', 'cash', 'and', 'cash', 'equivalents', ',', '$', '0.1', 'million', 'in', 'Lennar', 'Homebuilding', 'receivables', ',', 'net', ',', '$', '6.2', 'million', 'in', 'Lennar', 'Homebuilding', 'finished', 'homes', 'and', 'construction', 'in', 'progress', ',', '$', '158.8', 'million', 'in', 'Lennar', 'Homebuilding', 'land', 'and', 'land', 'under', 'development', ',', '$', '134.5', 'million', 'in', 'Lennar', 'Homebuilding', 'consolidated', 'inventory', 'not', 'owned', ',', '$', '4.5', 'million', 'in', 'Lennar', 'Homebuilding', 'investments', 'in', 'unconsolidated', 'entities', ',', '$', '21.4', 'million', 'in', 'Lennar', 'Homebuilding', 'other', 'assets', ',', '$', '280.0', 'million', 'in', 'Rialto', 'assets', 'and', '$', '31.4', 'million', 'in', 'Lennar', 'Multifamily', 'assets', '.', 'As', 'of', 'November', '30', ',', '2015', ',', 'total', 'assets', 'include', '$', '652.3', 'million', 'related', 'to', 'consolidated', 'VIEs', 'of', 'which', '$', '9.6', 'million', 'is', 'included', 'in', 'Lennar', 'Homebuilding', 'cash', 'and', 'cash', 'equivalents', ',', '$', '0.5', 'million', 'in', 'Lennar', 'Homebuilding', 'receivables', ',', 'net', ',', '$', '3.9', 'million', 'in', 'Lennar', 'Homebuilding', 'finished', 'homes', 'and', 'construction', 'in', 'progress', ',', '$', '154.2', 'million', 'in', 'Lennar', 'Homebuilding', 'land', 'and', 'land', 'under', 'development', ',', '$', '58.9', 'million', 'in', 'Lennar', 'Homebuilding', 'consolidated', 'inventory', 'not', 'owned', ',', '$', '35.8', 'million', 'in', 'Lennar', 'Homebuilding', 'investments', 'in', 'unconsolidated', 'entities', ',', '$', '22.7', 'million', 'in', 'Lennar', 'Homebuilding', 'other', 'assets', ',', '$', '355.2', 'million', 'in', 'Rialto', 'assets', 'and', '$', '11.5', 'million', 'in', 'Lennar', 'Multifamily', 'assets', '.']\n",
      "NER Tags: [0, 0, 0, 0, 0, 0, 0, 0, 0, 0, 0, 0, 0, 0, 0, 0, 0, 0, 0, 0, 0, 0, 0, 0, 0, 0, 0, 0, 0, 0, 0, 0, 0, 0, 0, 0, 0, 0, 0, 0, 0, 0, 0, 0, 0, 0, 0, 0, 0, 0, 0, 0, 0, 0, 0, 0, 0, 0, 0, 0, 0, 0, 0, 0, 0, 0, 0, 0, 0, 0, 0, 0, 0, 0, 0, 0, 0, 0, 0, 0, 0, 0, 0, 0, 0, 0, 0, 0, 0, 0, 0, 0, 0, 0, 0, 0, 0, 0, 0, 0, 0, 0, 0, 0, 0, 0, 0, 0, 0, 0, 0, 0, 0, 0, 0, 0, 0, 0, 0, 0, 0, 0, 0, 0, 0, 0, 0, 0, 0, 0, 0, 0, 0, 0, 0, 0, 0, 0, 0, 0, 0, 0, 0, 0, 0, 0, 0, 0, 0, 0, 0, 0, 0, 0, 0, 0, 0, 0, 0, 0, 0, 0, 0, 0, 0, 0, 0, 0, 0, 0, 0, 0, 0, 0, 0, 0, 0, 0, 0, 0, 66, 0, 0, 0, 0, 0, 0, 0, 0, 0, 0, 0, 0, 0, 0, 0, 0, 0, 0, 0, 0, 0, 0, 0, 0, 0, 0, 0, 0, 0, 0, 0, 0, 0, 0, 0, 0, 0, 0, 0, 0, 0, 0, 0, 0, 0, 0, 0, 0, 0, 0, 0, 0, 0, 0, 0, 0, 0, 0, 0, 0, 0, 0, 0, 0, 0, 0, 0, 0, 0, 0, 0, 0, 0, 0, 0, 0, 0, 0, 0, 0, 0, 0, 0, 0, 0, 0, 0, 0, 0, 0, 0, 0, 0, 0, 0, 0, 0, 0, 0, 0, 0, 0, 0, 0, 0, 0, 0, 0, 0, 0, 0, 0, 66, 0, 0, 0, 0, 0, 0, 0, 0, 0, 0, 0, 0, 0, 0, 0, 0, 0, 0, 0, 0, 0, 0, 0, 0, 0, 0, 0, 0, 0, 0, 0, 0, 0]\n"
     ]
    }
   ],
   "source": [
    "first_example = train_data[0]\n",
    "\n",
    "# Print the tokens and their tags\n",
    "print(\"Tokens:\", first_example['tokens'])\n",
    "print(\"NER Tags:\", first_example['ner_tags'])"
   ]
  },
  {
   "cell_type": "code",
   "execution_count": null,
   "id": "94d489b6",
   "metadata": {},
   "outputs": [],
   "source": []
  }
 ],
 "metadata": {
  "kernelspec": {
   "display_name": "Python 3",
   "language": "python",
   "name": "python3"
  },
  "language_info": {
   "codemirror_mode": {
    "name": "ipython",
    "version": 3
   },
   "file_extension": ".py",
   "mimetype": "text/x-python",
   "name": "python",
   "nbconvert_exporter": "python",
   "pygments_lexer": "ipython3",
   "version": "3.13.3"
  }
 },
 "nbformat": 4,
 "nbformat_minor": 5
}
